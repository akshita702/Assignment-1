{
  "nbformat": 4,
  "nbformat_minor": 0,
  "metadata": {
    "colab": {
      "name": "Copy of Welcome to Colaboratory",
      "provenance": [],
      "collapsed_sections": [],
      "toc_visible": true
    },
    "kernelspec": {
      "display_name": "Python 3",
      "name": "python3"
    }
  },
  "cells": [
    {
      "cell_type": "code",
      "metadata": {
        "id": "RtOoVqt_5lXi"
      },
      "source": [
        "# ASSIGNMENT 1 - QUES 1"
      ],
      "execution_count": null,
      "outputs": []
    },
    {
      "cell_type": "code",
      "metadata": {
        "id": "C2VJsFOMzY36",
        "colab": {
          "base_uri": "https://localhost:8080/"
        },
        "outputId": "55d2e86c-b2b9-4793-ed14-42222f456720"
      },
      "source": [
        "str1 = \"hi there!\"\r\n",
        "x = str1.upper()\r\n",
        "print (x)"
      ],
      "execution_count": null,
      "outputs": [
        {
          "output_type": "stream",
          "text": [
            "HI THERE!\n"
          ],
          "name": "stdout"
        }
      ]
    },
    {
      "cell_type": "code",
      "metadata": {
        "id": "hNvjSG-ozjlL",
        "colab": {
          "base_uri": "https://localhost:8080/",
          "height": 35
        },
        "outputId": "5b0c2918-483b-4069-826a-f21b3b673ad2"
      },
      "source": [
        " str1.capitalize()"
      ],
      "execution_count": null,
      "outputs": [
        {
          "output_type": "execute_result",
          "data": {
            "application/vnd.google.colaboratory.intrinsic+json": {
              "type": "string"
            },
            "text/plain": [
              "'Hi there!'"
            ]
          },
          "metadata": {
            "tags": []
          },
          "execution_count": 7
        }
      ]
    },
    {
      "cell_type": "code",
      "metadata": {
        "id": "RIAZ1D_Jz-oq",
        "colab": {
          "base_uri": "https://localhost:8080/"
        },
        "outputId": "3c699d2e-eb27-404a-ed81-f19f3a673227"
      },
      "source": [
        "str2 = \"I saw the sea and the sea saw see me\"\r\n",
        "y = str2.count('s')\r\n",
        "print (y)"
      ],
      "execution_count": null,
      "outputs": [
        {
          "output_type": "stream",
          "text": [
            "5\n"
          ],
          "name": "stdout"
        }
      ]
    },
    {
      "cell_type": "code",
      "metadata": {
        "id": "uqsvnhz80FqN",
        "colab": {
          "base_uri": "https://localhost:8080/",
          "height": 35
        },
        "outputId": "27b1b612-7007-4e0e-c4ff-0944ac43cdde"
      },
      "source": [
        "str2.upper()"
      ],
      "execution_count": null,
      "outputs": [
        {
          "output_type": "execute_result",
          "data": {
            "application/vnd.google.colaboratory.intrinsic+json": {
              "type": "string"
            },
            "text/plain": [
              "'I SAW THE SEA AND THE SEA SAW SEE ME'"
            ]
          },
          "metadata": {
            "tags": []
          },
          "execution_count": 21
        }
      ]
    },
    {
      "cell_type": "code",
      "metadata": {
        "id": "G577Qa5g1l87",
        "colab": {
          "base_uri": "https://localhost:8080/"
        },
        "outputId": "b77acae9-65af-4fe0-86b1-fa057de314a9"
      },
      "source": [
        "str2.startswith('s')"
      ],
      "execution_count": null,
      "outputs": [
        {
          "output_type": "execute_result",
          "data": {
            "text/plain": [
              "False"
            ]
          },
          "metadata": {
            "tags": []
          },
          "execution_count": 42
        }
      ]
    },
    {
      "cell_type": "code",
      "metadata": {
        "id": "N-uieI1z1rox"
      },
      "source": [
        "# ASSIGNMENT 1 - QUES 2"
      ],
      "execution_count": null,
      "outputs": []
    },
    {
      "cell_type": "code",
      "metadata": {
        "id": "oiU5czSP5yZ6"
      },
      "source": [
        "list1 = [9, 5, 7,'ice', 'cream', 'chocolate']"
      ],
      "execution_count": null,
      "outputs": []
    },
    {
      "cell_type": "code",
      "metadata": {
        "id": "VEh6Q-4t6E6a",
        "colab": {
          "base_uri": "https://localhost:8080/"
        },
        "outputId": "b61718bb-6c32-4a67-fe5a-917192da8070"
      },
      "source": [
        "list1.append('strawberry')\r\n",
        "print (list1)"
      ],
      "execution_count": null,
      "outputs": [
        {
          "output_type": "stream",
          "text": [
            "[9, 5, 7, 'ice', 'cream', 'chocolate', 'strawberry']\n"
          ],
          "name": "stdout"
        }
      ]
    },
    {
      "cell_type": "code",
      "metadata": {
        "id": "lGJxYrZk6LR8",
        "colab": {
          "base_uri": "https://localhost:8080/"
        },
        "outputId": "11f228b8-7dbe-4d2f-8076-cd776397cfdd"
      },
      "source": [
        "list1.index('chocolate')"
      ],
      "execution_count": null,
      "outputs": [
        {
          "output_type": "execute_result",
          "data": {
            "text/plain": [
              "5"
            ]
          },
          "metadata": {
            "tags": []
          },
          "execution_count": 89
        }
      ]
    },
    {
      "cell_type": "code",
      "metadata": {
        "id": "GCdHgjn88KsP",
        "colab": {
          "base_uri": "https://localhost:8080/"
        },
        "outputId": "204db8d0-af5f-41c1-e323-2ba1375e71fc"
      },
      "source": [
        "list1.insert(5,10)\r\n",
        "print (list1)"
      ],
      "execution_count": null,
      "outputs": [
        {
          "output_type": "stream",
          "text": [
            "[9, 5, 7, 'ice', 'cream', 10, 'chocolate', 'strawberry']\n"
          ],
          "name": "stdout"
        }
      ]
    },
    {
      "cell_type": "code",
      "metadata": {
        "id": "nLdeJa8b88pG",
        "colab": {
          "base_uri": "https://localhost:8080/"
        },
        "outputId": "268138a7-cdbf-4f29-81ad-7dd92c337ae9"
      },
      "source": [
        "list1.remove(7)\r\n",
        "print (list1)"
      ],
      "execution_count": null,
      "outputs": [
        {
          "output_type": "stream",
          "text": [
            "[9, 5, 'ice', 'cream', 10, 'chocolate', 'strawberry']\n"
          ],
          "name": "stdout"
        }
      ]
    },
    {
      "cell_type": "code",
      "metadata": {
        "id": "ncnDM9dz9PGz",
        "colab": {
          "base_uri": "https://localhost:8080/"
        },
        "outputId": "4db77eb3-064c-4025-c87a-44172b5f26fa"
      },
      "source": [
        "list1.pop()\r\n",
        "print (list1)"
      ],
      "execution_count": null,
      "outputs": [
        {
          "output_type": "stream",
          "text": [
            "[9, 5, 'ice', 'cream', 10, 'chocolate']\n"
          ],
          "name": "stdout"
        }
      ]
    },
    {
      "cell_type": "code",
      "metadata": {
        "id": "9K0Rzo1p9X_D"
      },
      "source": [
        "# ASSIGNMENT 1 - QUES 3"
      ],
      "execution_count": null,
      "outputs": []
    },
    {
      "cell_type": "code",
      "metadata": {
        "id": "rOusE5T69-u2"
      },
      "source": [
        "dic={'house1', 'house2', 'house3'}"
      ],
      "execution_count": null,
      "outputs": []
    },
    {
      "cell_type": "code",
      "metadata": {
        "id": "VGNPDXA4-In-",
        "colab": {
          "base_uri": "https://localhost:8080/"
        },
        "outputId": "66c6c0be-1362-4739-d199-2b88fb1a00ea"
      },
      "source": [
        "dic.add('house4')\r\n",
        "print (dic)"
      ],
      "execution_count": null,
      "outputs": [
        {
          "output_type": "stream",
          "text": [
            "{'house3', 'house1', 'house2', 'house4'}\n"
          ],
          "name": "stdout"
        }
      ]
    },
    {
      "cell_type": "code",
      "metadata": {
        "id": "OorXYvXC-O5I",
        "colab": {
          "base_uri": "https://localhost:8080/"
        },
        "outputId": "31d4d222-df24-4c5b-fef8-4b2cf92b074e"
      },
      "source": [
        "dic.update('house5')\r\n",
        "print (dic)"
      ],
      "execution_count": null,
      "outputs": [
        {
          "output_type": "stream",
          "text": [
            "{'5', 'e', 'h', 'o', 'house1', 'house4', 'house3', 'house2', 'u', 's'}\n"
          ],
          "name": "stdout"
        }
      ]
    },
    {
      "cell_type": "code",
      "metadata": {
        "id": "WrZ_cu1x-mfq",
        "colab": {
          "base_uri": "https://localhost:8080/"
        },
        "outputId": "d62866a5-e1ea-4f49-d693-70e4a825698d"
      },
      "source": [
        "dic.remove('house2')\r\n",
        "print (dic)"
      ],
      "execution_count": null,
      "outputs": [
        {
          "output_type": "stream",
          "text": [
            "{'5', 'h', 'o', 'house1', 'house4', 'house3', 'u', 's'}\n"
          ],
          "name": "stdout"
        }
      ]
    },
    {
      "cell_type": "code",
      "metadata": {
        "id": "KknpIxDW-yNY",
        "colab": {
          "base_uri": "https://localhost:8080/"
        },
        "outputId": "7a335cda-8d34-4015-daf7-ca0b26098195"
      },
      "source": [
        "dic.pop()\r\n",
        "print (dic)"
      ],
      "execution_count": null,
      "outputs": [
        {
          "output_type": "stream",
          "text": [
            "{'h', 'o', 'house1', 'house4', 'house3', 'u', 's'}\n"
          ],
          "name": "stdout"
        }
      ]
    },
    {
      "cell_type": "code",
      "metadata": {
        "id": "-j_yoTjp_IhM",
        "colab": {
          "base_uri": "https://localhost:8080/"
        },
        "outputId": "4e373d4a-3e59-45a5-f082-241abf259fdb"
      },
      "source": [
        "dic.clear()\r\n",
        "print (dic)"
      ],
      "execution_count": null,
      "outputs": [
        {
          "output_type": "stream",
          "text": [
            "set()\n"
          ],
          "name": "stdout"
        }
      ]
    },
    {
      "cell_type": "code",
      "metadata": {
        "id": "RYnuIXyj_syu"
      },
      "source": [
        ""
      ],
      "execution_count": null,
      "outputs": []
    }
  ]
}