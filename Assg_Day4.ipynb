{
  "nbformat": 4,
  "nbformat_minor": 0,
  "metadata": {
    "colab": {
      "name": "Assg Day4",
      "provenance": [],
      "collapsed_sections": []
    },
    "kernelspec": {
      "name": "python3",
      "display_name": "Python 3"
    }
  },
  "cells": [
    {
      "cell_type": "code",
      "metadata": {
        "id": "0ZXxIcFNWP2I"
      },
      "source": [
        "# Assignment 3"
      ],
      "execution_count": null,
      "outputs": []
    },
    {
      "cell_type": "code",
      "metadata": {
        "colab": {
          "base_uri": "https://localhost:8080/"
        },
        "id": "_9bKgImKTnds",
        "outputId": "6a97fca0-66ea-4a5f-8c4b-dd60016811dc"
      },
      "source": [
        "file1 = open(\"f1.txt\",'w')\r\n",
        "file1.write(\"I love LetsUpgrade\")\r\n",
        "file1.close"
      ],
      "execution_count": 10,
      "outputs": [
        {
          "output_type": "execute_result",
          "data": {
            "text/plain": [
              "<function TextIOWrapper.close>"
            ]
          },
          "metadata": {
            "tags": []
          },
          "execution_count": 10
        }
      ]
    },
    {
      "cell_type": "code",
      "metadata": {
        "colab": {
          "base_uri": "https://localhost:8080/"
        },
        "id": "Sgys1tZeU16c",
        "outputId": "b7d7c47a-cee5-4849-fd93-3e117b8c8471"
      },
      "source": [
        "file1 = open(\"f1.txt\",'r+')\r\n",
        "print(file1.read())\r\n",
        "file1.write(\"Updated\")\r\n",
        "file1.close"
      ],
      "execution_count": 11,
      "outputs": [
        {
          "output_type": "stream",
          "text": [
            "I love LetsUpgrade\n"
          ],
          "name": "stdout"
        },
        {
          "output_type": "execute_result",
          "data": {
            "text/plain": [
              "<function TextIOWrapper.close>"
            ]
          },
          "metadata": {
            "tags": []
          },
          "execution_count": 11
        }
      ]
    },
    {
      "cell_type": "code",
      "metadata": {
        "colab": {
          "base_uri": "https://localhost:8080/"
        },
        "id": "8q9mj3n2UAMo",
        "outputId": "c4331d66-b97c-4994-eda5-f8ddd81c7150"
      },
      "source": [
        "file1 = open(\"f1.txt\",'a')\r\n",
        "file1.write(\"Do you?\")\r\n",
        "file1.close"
      ],
      "execution_count": 12,
      "outputs": [
        {
          "output_type": "execute_result",
          "data": {
            "text/plain": [
              "<function TextIOWrapper.close>"
            ]
          },
          "metadata": {
            "tags": []
          },
          "execution_count": 12
        }
      ]
    },
    {
      "cell_type": "code",
      "metadata": {
        "id": "pjppqF6NWV2b"
      },
      "source": [
        "# Assignment 3 - ques 2"
      ],
      "execution_count": 13,
      "outputs": []
    },
    {
      "cell_type": "code",
      "metadata": {
        "colab": {
          "base_uri": "https://localhost:8080/"
        },
        "id": "uoiKNXPTWZyg",
        "outputId": "844d3ce0-0d2f-424f-a9ad-8ac2e355dd7e"
      },
      "source": [
        "num = int(input(\"Enter a number: \"))\r\n",
        "if num>0:\r\n",
        "  fact=1\r\n",
        "  for i in range(1,num+1):\r\n",
        "       fact = fact*i\r\n",
        "       print(fact)\r\n",
        "elif num < 0:\r\n",
        "   print(\"Error: Negative No.\")\r\n",
        "else:\r\n",
        "   print(\"The factorial of 0 is 1\")"
      ],
      "execution_count": 28,
      "outputs": [
        {
          "output_type": "stream",
          "text": [
            "Enter a number: 4\n",
            "1\n",
            "2\n",
            "6\n",
            "24\n"
          ],
          "name": "stdout"
        }
      ]
    },
    {
      "cell_type": "code",
      "metadata": {
        "id": "DYM3Wh3gY5ad"
      },
      "source": [
        ""
      ],
      "execution_count": null,
      "outputs": []
    }
  ]
}